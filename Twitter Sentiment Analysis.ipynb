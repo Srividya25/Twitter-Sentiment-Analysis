{
 "cells": [
  {
   "cell_type": "code",
   "execution_count": 1,
   "id": "afdc0a20",
   "metadata": {},
   "outputs": [],
   "source": [
    "import pandas as pd\n",
    "import numpy as np\n",
    "import matplotlib.pyplot as plt\n",
    "import math\n",
    "import nltk\n",
    "import scipy\n",
    "import seaborn as sns\n",
    "\n",
    "from scikitplot.metrics import plot_roc_curve as auc_roc\n",
    "from sklearn.model_selection import train_test_split\n",
    "from sklearn.ensemble import RandomForestClassifier\n",
    "from sklearn.linear_model import LogisticRegression\n",
    "from sklearn.metrics import accuracy_score, confusion_matrix, classification_report, f1_score,roc_auc_score, roc_curve, precision_score, recall_score\n"
   ]
  },
  {
   "cell_type": "code",
   "execution_count": null,
   "id": "ce3ad9dd",
   "metadata": {},
   "outputs": [],
   "source": []
  },
  {
   "cell_type": "code",
   "execution_count": 2,
   "id": "0c4ec648",
   "metadata": {},
   "outputs": [
    {
     "data": {
      "text/html": [
       "<div>\n",
       "<style scoped>\n",
       "    .dataframe tbody tr th:only-of-type {\n",
       "        vertical-align: middle;\n",
       "    }\n",
       "\n",
       "    .dataframe tbody tr th {\n",
       "        vertical-align: top;\n",
       "    }\n",
       "\n",
       "    .dataframe thead th {\n",
       "        text-align: right;\n",
       "    }\n",
       "</style>\n",
       "<table border=\"1\" class=\"dataframe\">\n",
       "  <thead>\n",
       "    <tr style=\"text-align: right;\">\n",
       "      <th></th>\n",
       "      <th>textID</th>\n",
       "      <th>text</th>\n",
       "      <th>selected_text</th>\n",
       "      <th>sentiment</th>\n",
       "    </tr>\n",
       "  </thead>\n",
       "  <tbody>\n",
       "    <tr>\n",
       "      <th>0</th>\n",
       "      <td>cb774db0d1</td>\n",
       "      <td>I`d have responded, if I were going</td>\n",
       "      <td>I`d have responded, if I were going</td>\n",
       "      <td>neutral</td>\n",
       "    </tr>\n",
       "    <tr>\n",
       "      <th>1</th>\n",
       "      <td>549e992a42</td>\n",
       "      <td>Sooo SAD I will miss you here in San Diego!!!</td>\n",
       "      <td>Sooo SAD</td>\n",
       "      <td>negative</td>\n",
       "    </tr>\n",
       "    <tr>\n",
       "      <th>2</th>\n",
       "      <td>088c60f138</td>\n",
       "      <td>my boss is bullying me...</td>\n",
       "      <td>bullying me</td>\n",
       "      <td>negative</td>\n",
       "    </tr>\n",
       "    <tr>\n",
       "      <th>3</th>\n",
       "      <td>9642c003ef</td>\n",
       "      <td>what interview! leave me alone</td>\n",
       "      <td>leave me alone</td>\n",
       "      <td>negative</td>\n",
       "    </tr>\n",
       "    <tr>\n",
       "      <th>4</th>\n",
       "      <td>358bd9e861</td>\n",
       "      <td>Sons of ****, why couldn`t they put them on t...</td>\n",
       "      <td>Sons of ****,</td>\n",
       "      <td>negative</td>\n",
       "    </tr>\n",
       "    <tr>\n",
       "      <th>...</th>\n",
       "      <td>...</td>\n",
       "      <td>...</td>\n",
       "      <td>...</td>\n",
       "      <td>...</td>\n",
       "    </tr>\n",
       "    <tr>\n",
       "      <th>27476</th>\n",
       "      <td>4eac33d1c0</td>\n",
       "      <td>wish we could come see u on Denver  husband l...</td>\n",
       "      <td>d lost</td>\n",
       "      <td>negative</td>\n",
       "    </tr>\n",
       "    <tr>\n",
       "      <th>27477</th>\n",
       "      <td>4f4c4fc327</td>\n",
       "      <td>I`ve wondered about rake to.  The client has ...</td>\n",
       "      <td>, don`t force</td>\n",
       "      <td>negative</td>\n",
       "    </tr>\n",
       "    <tr>\n",
       "      <th>27478</th>\n",
       "      <td>f67aae2310</td>\n",
       "      <td>Yay good for both of you. Enjoy the break - y...</td>\n",
       "      <td>Yay good for both of you.</td>\n",
       "      <td>positive</td>\n",
       "    </tr>\n",
       "    <tr>\n",
       "      <th>27479</th>\n",
       "      <td>ed167662a5</td>\n",
       "      <td>But it was worth it  ****.</td>\n",
       "      <td>But it was worth it  ****.</td>\n",
       "      <td>positive</td>\n",
       "    </tr>\n",
       "    <tr>\n",
       "      <th>27480</th>\n",
       "      <td>6f7127d9d7</td>\n",
       "      <td>All this flirting going on - The ATG smiles...</td>\n",
       "      <td>All this flirting going on - The ATG smiles. Y...</td>\n",
       "      <td>neutral</td>\n",
       "    </tr>\n",
       "  </tbody>\n",
       "</table>\n",
       "<p>27481 rows × 4 columns</p>\n",
       "</div>"
      ],
      "text/plain": [
       "           textID                                               text  \\\n",
       "0      cb774db0d1                I`d have responded, if I were going   \n",
       "1      549e992a42      Sooo SAD I will miss you here in San Diego!!!   \n",
       "2      088c60f138                          my boss is bullying me...   \n",
       "3      9642c003ef                     what interview! leave me alone   \n",
       "4      358bd9e861   Sons of ****, why couldn`t they put them on t...   \n",
       "...           ...                                                ...   \n",
       "27476  4eac33d1c0   wish we could come see u on Denver  husband l...   \n",
       "27477  4f4c4fc327   I`ve wondered about rake to.  The client has ...   \n",
       "27478  f67aae2310   Yay good for both of you. Enjoy the break - y...   \n",
       "27479  ed167662a5                         But it was worth it  ****.   \n",
       "27480  6f7127d9d7     All this flirting going on - The ATG smiles...   \n",
       "\n",
       "                                           selected_text sentiment  \n",
       "0                    I`d have responded, if I were going   neutral  \n",
       "1                                               Sooo SAD  negative  \n",
       "2                                            bullying me  negative  \n",
       "3                                         leave me alone  negative  \n",
       "4                                          Sons of ****,  negative  \n",
       "...                                                  ...       ...  \n",
       "27476                                             d lost  negative  \n",
       "27477                                      , don`t force  negative  \n",
       "27478                          Yay good for both of you.  positive  \n",
       "27479                         But it was worth it  ****.  positive  \n",
       "27480  All this flirting going on - The ATG smiles. Y...   neutral  \n",
       "\n",
       "[27481 rows x 4 columns]"
      ]
     },
     "execution_count": 2,
     "metadata": {},
     "output_type": "execute_result"
    }
   ],
   "source": [
    "train_file_df = pd.read_csv('Tweets.csv')\n",
    "train_file_df"
   ]
  },
  {
   "cell_type": "code",
   "execution_count": 26,
   "id": "7f610a59",
   "metadata": {},
   "outputs": [],
   "source": [
    "'''takign a sample variable for testing'''\n",
    "\n",
    "#train_file_df = train_file.iloc[0:50, 0:50]\n",
    "#train_file_df"
   ]
  },
  {
   "cell_type": "code",
   "execution_count": 3,
   "id": "0f4f4d94",
   "metadata": {},
   "outputs": [
    {
     "data": {
      "text/html": [
       "<div>\n",
       "<style scoped>\n",
       "    .dataframe tbody tr th:only-of-type {\n",
       "        vertical-align: middle;\n",
       "    }\n",
       "\n",
       "    .dataframe tbody tr th {\n",
       "        vertical-align: top;\n",
       "    }\n",
       "\n",
       "    .dataframe thead th {\n",
       "        text-align: right;\n",
       "    }\n",
       "</style>\n",
       "<table border=\"1\" class=\"dataframe\">\n",
       "  <thead>\n",
       "    <tr style=\"text-align: right;\">\n",
       "      <th></th>\n",
       "      <th>text</th>\n",
       "      <th>sentiment</th>\n",
       "    </tr>\n",
       "  </thead>\n",
       "  <tbody>\n",
       "    <tr>\n",
       "      <th>0</th>\n",
       "      <td>I`d have responded, if I were going</td>\n",
       "      <td>neutral</td>\n",
       "    </tr>\n",
       "    <tr>\n",
       "      <th>1</th>\n",
       "      <td>Sooo SAD I will miss you here in San Diego!!!</td>\n",
       "      <td>negative</td>\n",
       "    </tr>\n",
       "    <tr>\n",
       "      <th>2</th>\n",
       "      <td>my boss is bullying me...</td>\n",
       "      <td>negative</td>\n",
       "    </tr>\n",
       "    <tr>\n",
       "      <th>3</th>\n",
       "      <td>what interview! leave me alone</td>\n",
       "      <td>negative</td>\n",
       "    </tr>\n",
       "    <tr>\n",
       "      <th>4</th>\n",
       "      <td>Sons of ****, why couldn`t they put them on t...</td>\n",
       "      <td>negative</td>\n",
       "    </tr>\n",
       "    <tr>\n",
       "      <th>...</th>\n",
       "      <td>...</td>\n",
       "      <td>...</td>\n",
       "    </tr>\n",
       "    <tr>\n",
       "      <th>27476</th>\n",
       "      <td>wish we could come see u on Denver  husband l...</td>\n",
       "      <td>negative</td>\n",
       "    </tr>\n",
       "    <tr>\n",
       "      <th>27477</th>\n",
       "      <td>I`ve wondered about rake to.  The client has ...</td>\n",
       "      <td>negative</td>\n",
       "    </tr>\n",
       "    <tr>\n",
       "      <th>27478</th>\n",
       "      <td>Yay good for both of you. Enjoy the break - y...</td>\n",
       "      <td>positive</td>\n",
       "    </tr>\n",
       "    <tr>\n",
       "      <th>27479</th>\n",
       "      <td>But it was worth it  ****.</td>\n",
       "      <td>positive</td>\n",
       "    </tr>\n",
       "    <tr>\n",
       "      <th>27480</th>\n",
       "      <td>All this flirting going on - The ATG smiles...</td>\n",
       "      <td>neutral</td>\n",
       "    </tr>\n",
       "  </tbody>\n",
       "</table>\n",
       "<p>27481 rows × 2 columns</p>\n",
       "</div>"
      ],
      "text/plain": [
       "                                                    text sentiment\n",
       "0                    I`d have responded, if I were going   neutral\n",
       "1          Sooo SAD I will miss you here in San Diego!!!  negative\n",
       "2                              my boss is bullying me...  negative\n",
       "3                         what interview! leave me alone  negative\n",
       "4       Sons of ****, why couldn`t they put them on t...  negative\n",
       "...                                                  ...       ...\n",
       "27476   wish we could come see u on Denver  husband l...  negative\n",
       "27477   I`ve wondered about rake to.  The client has ...  negative\n",
       "27478   Yay good for both of you. Enjoy the break - y...  positive\n",
       "27479                         But it was worth it  ****.  positive\n",
       "27480     All this flirting going on - The ATG smiles...   neutral\n",
       "\n",
       "[27481 rows x 2 columns]"
      ]
     },
     "execution_count": 3,
     "metadata": {},
     "output_type": "execute_result"
    }
   ],
   "source": [
    "'''\n",
    "Droping the un-necessary columns\n",
    "'''\n",
    "'''repalce 'train_file_df' with 'train_file' if not performing testing'''\n",
    "df = train_file_df.drop(columns = ['textID', 'selected_text'])\n",
    "df"
   ]
  },
  {
   "cell_type": "code",
   "execution_count": 4,
   "id": "2639d9e9",
   "metadata": {},
   "outputs": [],
   "source": [
    "'''Data Processing'''\n",
    "# remove duplicates\n",
    "df = df.drop_duplicates()\n",
    "#df"
   ]
  },
  {
   "cell_type": "code",
   "execution_count": 6,
   "id": "ebd66e94",
   "metadata": {
    "scrolled": false
   },
   "outputs": [
    {
     "name": "stderr",
     "output_type": "stream",
     "text": [
      "100%|██████████| 27481/27481 [01:11<00:00, 386.41it/s]\n"
     ]
    }
   ],
   "source": [
    "'''\n",
    "Filtering the text\n",
    " - removing punctuation\n",
    " - removing stopwords\n",
    " - performing stemmings\n",
    " - lemmatization\n",
    " \n",
    "'''\n",
    "import re\n",
    "import nltk\n",
    "#nltk.download('wordnet')\n",
    "from tqdm import tqdm\n",
    "from nltk.corpus import stopwords\n",
    "from nltk.stem.porter import PorterStemmer\n",
    "from nltk.stem import WordNetLemmatizer\n",
    "\n",
    "#df.shape[0]\n",
    "\n",
    "def preprocessor(text):\n",
    "    text = str(text)\n",
    "    text = text.lower()\n",
    "    # text = ''.join([i for i in text if i in string.ascii_lowercase+' '])\n",
    "    \n",
    "    text = re.sub(r'[^\\w\\s]', '', text)     #remove punctuation\n",
    "    text = ' '.join([WordNetLemmatizer().lemmatize(word) for word in text.split()])     #lemmatization\n",
    "    #text = ' '.join([PorterStemmer().stem(word) for word in text.split()])     #stemming\n",
    "    text = ' '.join([word for word in text.split() if word not in stopwords.words('english')])     #remove stopwords\n",
    "    return text\n",
    "\n",
    "#tqdm shows progress bar\n",
    "for i in tqdm(range(df.shape[0])):\n",
    "    df.loc[i,'text'] = preprocessor(df['text'][i])\n",
    "    \n",
    "#df\n",
    "\n",
    "#The data is now cleaned. We have removed all stopwords, punctuation and performed stemming"
   ]
  },
  {
   "cell_type": "code",
   "execution_count": 7,
   "id": "6ea721d9",
   "metadata": {},
   "outputs": [],
   "source": [
    "'''TF-IDF Vectorization'''\n",
    "\n",
    "from sklearn.feature_extraction.text import TfidfVectorizer\n",
    "\n",
    "from nltk.stem.porter import PorterStemmer\n",
    "porter=PorterStemmer()\n",
    "def tokenizer(text):\n",
    "        return text.split()\n",
    "def tokenizer_porter(text):\n",
    "    return [porter.stem(word) for word in text.split()]\n",
    "\n",
    "tfidf=TfidfVectorizer(strip_accents=None,lowercase=False,preprocessor=None,tokenizer=tokenizer_porter,use_idf=True,norm='l2',smooth_idf=True)\n",
    "#y=df['sentiment'].values\n",
    "tf_idf_X = tfidf.fit_transform(df.text)\n",
    "\n",
    "#print(y)\n",
    "#print(tf_idf_X)\n",
    "#df['text']"
   ]
  },
  {
   "cell_type": "code",
   "execution_count": 8,
   "id": "e2ab51cf",
   "metadata": {
    "scrolled": false
   },
   "outputs": [],
   "source": [
    "'''\n",
    "Bag of words vectorization using CountVectorizer\n",
    "'''\n",
    "from sklearn.feature_extraction.text import CountVectorizer\n",
    "\n",
    "#X = CountVectorizer.fit(df['text'])\n",
    "bow_vectorizer = CountVectorizer(max_df=0.90, min_df=2)\n",
    "bow_X = bow_vectorizer.fit_transform(df['text'])\n",
    "#print(bow_X)\n",
    "\n",
    "\n",
    "\n"
   ]
  },
  {
   "cell_type": "code",
   "execution_count": 9,
   "id": "f8e59c32",
   "metadata": {
    "scrolled": false
   },
   "outputs": [],
   "source": [
    "'''\n",
    "N-Gram vectorization using CountVectorizer\n",
    "https://www.linkedin.com/learning/nlp-with-python-for-machine-learning-essential-training/n-gram-vectorizing?resume=false&u=42290089\n",
    "https://towardsdatascience.com/nlp-in-python-vectorizing-a2b4fc1a339e\n",
    "https://www.analyticsvidhya.com/blog/2021/09/what-are-n-grams-and-how-to-implement-them-in-python/\n",
    "\n",
    "'''\n",
    "\n",
    "#ngram_vect = CountVectorizer(ngram_range=(1,2))    # tells to looks for unigram to bigram\n",
    "ngram_vect = CountVectorizer(ngram_range=(1,3))    # tells to look for unigram to trigram \n",
    "#ngram_vect = CountVectorizer(ngram_range=(2,2))    # tells to look for only bigrams\n",
    "\n",
    "ngram_X = ngram_vect.fit_transform(df['text'])\n",
    "#print(ngram_X.shape)\n",
    "#print(ngram_X)\n",
    "#print(ngram_vect.get_feature_names())\n",
    "\n",
    "\n"
   ]
  },
  {
   "cell_type": "code",
   "execution_count": 10,
   "id": "63a2ac42",
   "metadata": {},
   "outputs": [
    {
     "data": {
      "text/plain": [
       "0        1\n",
       "1        0\n",
       "2        0\n",
       "3        0\n",
       "4        0\n",
       "        ..\n",
       "27476    0\n",
       "27477    0\n",
       "27478    2\n",
       "27479    2\n",
       "27480    1\n",
       "Length: 27481, dtype: int64"
      ]
     },
     "execution_count": 10,
     "metadata": {},
     "output_type": "execute_result"
    }
   ],
   "source": [
    "'''\n",
    "process y variable\n",
    "'''\n",
    "y=df['sentiment'].values\n",
    "MAP={'negative':0, 'neutral':1, 'positive':2}\n",
    "df.sentiment = df.sentiment.map(MAP)\n",
    "Y = pd.Series(y).map(MAP)\n",
    "Y"
   ]
  },
  {
   "cell_type": "code",
   "execution_count": 11,
   "id": "f6f5508a",
   "metadata": {},
   "outputs": [
    {
     "name": "stdout",
     "output_type": "stream",
     "text": [
      "Original set  --->  (27481, 300511) 27481 \n",
      "Training set  --->  (21984, 300511) 21984 \n",
      "Testing set   --->  (5497, 300511)  5497\n"
     ]
    }
   ],
   "source": [
    "'''\n",
    "Splitting the dataset\n",
    "'''\n",
    "\n",
    "#X = tf_idf_X\n",
    "X = ngram_X\n",
    "#X = bow_X\n",
    "\n",
    "#Y = pd.Series(y).map(MAP)\n",
    "#MAP={'negative':0, 'neutral':1, 'positive':2}\n",
    "Train_X, Test_X, Train_Y, Test_Y = train_test_split(X, Y, train_size=0.8, test_size=0.2, random_state=0)\n",
    "\n",
    "print('Original set  ---> ',X.shape,len(Y),'\\nTraining set  ---> ',Train_X.shape,len(Train_Y),'\\nTesting set   ---> ', Test_X.shape,'', len(Test_Y))"
   ]
  },
  {
   "cell_type": "code",
   "execution_count": 12,
   "id": "e0c0be2b",
   "metadata": {
    "scrolled": true
   },
   "outputs": [
    {
     "data": {
      "text/html": [
       "<div>\n",
       "<style scoped>\n",
       "    .dataframe tbody tr th:only-of-type {\n",
       "        vertical-align: middle;\n",
       "    }\n",
       "\n",
       "    .dataframe tbody tr th {\n",
       "        vertical-align: top;\n",
       "    }\n",
       "\n",
       "    .dataframe thead th {\n",
       "        text-align: right;\n",
       "    }\n",
       "</style>\n",
       "<table border=\"1\" class=\"dataframe\">\n",
       "  <thead>\n",
       "    <tr style=\"text-align: right;\">\n",
       "      <th></th>\n",
       "      <th>Accuracy</th>\n",
       "      <th>Precision</th>\n",
       "      <th>Recall</th>\n",
       "      <th>F1-score</th>\n",
       "      <th>AUC-ROC score</th>\n",
       "    </tr>\n",
       "  </thead>\n",
       "  <tbody>\n",
       "    <tr>\n",
       "      <th>Logistic Regression (LR)</th>\n",
       "      <td>0.0</td>\n",
       "      <td>0.0</td>\n",
       "      <td>0.0</td>\n",
       "      <td>0.0</td>\n",
       "      <td>0.0</td>\n",
       "    </tr>\n",
       "    <tr>\n",
       "      <th>Decision Tree Classifier (DT)</th>\n",
       "      <td>0.0</td>\n",
       "      <td>0.0</td>\n",
       "      <td>0.0</td>\n",
       "      <td>0.0</td>\n",
       "      <td>0.0</td>\n",
       "    </tr>\n",
       "    <tr>\n",
       "      <th>Random Forest Classifier (RF)</th>\n",
       "      <td>0.0</td>\n",
       "      <td>0.0</td>\n",
       "      <td>0.0</td>\n",
       "      <td>0.0</td>\n",
       "      <td>0.0</td>\n",
       "    </tr>\n",
       "    <tr>\n",
       "      <th>Naïve Bayes Classifier (NB)</th>\n",
       "      <td>0.0</td>\n",
       "      <td>0.0</td>\n",
       "      <td>0.0</td>\n",
       "      <td>0.0</td>\n",
       "      <td>0.0</td>\n",
       "    </tr>\n",
       "  </tbody>\n",
       "</table>\n",
       "</div>"
      ],
      "text/plain": [
       "                               Accuracy  Precision  Recall  F1-score  \\\n",
       "Logistic Regression (LR)            0.0        0.0     0.0       0.0   \n",
       "Decision Tree Classifier (DT)       0.0        0.0     0.0       0.0   \n",
       "Random Forest Classifier (RF)       0.0        0.0     0.0       0.0   \n",
       "Naïve Bayes Classifier (NB)         0.0        0.0     0.0       0.0   \n",
       "\n",
       "                               AUC-ROC score  \n",
       "Logistic Regression (LR)                 0.0  \n",
       "Decision Tree Classifier (DT)            0.0  \n",
       "Random Forest Classifier (RF)            0.0  \n",
       "Naïve Bayes Classifier (NB)              0.0  "
      ]
     },
     "execution_count": 12,
     "metadata": {},
     "output_type": "execute_result"
    }
   ],
   "source": [
    "#Let us create first create a table to store the results of various models \n",
    "\n",
    "Evaluation_Results = pd.DataFrame(np.zeros((4,5)), columns=['Accuracy', 'Precision','Recall','F1-score','AUC-ROC score'])\n",
    "Evaluation_Results.index=['Logistic Regression (LR)','Decision Tree Classifier (DT)','Random Forest Classifier (RF)','Naïve Bayes Classifier (NB)']\n",
    "Evaluation_Results"
   ]
  },
  {
   "cell_type": "code",
   "execution_count": 13,
   "id": "3e3491b2",
   "metadata": {},
   "outputs": [],
   "source": [
    "#Let us define functions to summarise the Prediction's scores .\n",
    "\n",
    "\n",
    "\n",
    "#Classification Summary Function\n",
    "def Classification_Summary(pred,pred_prob,i):\n",
    "    Evaluation_Results.iloc[i]['Accuracy']=round(accuracy_score(Test_Y, pred),3)*100   \n",
    "    Evaluation_Results.iloc[i]['Precision']=round(precision_score(Test_Y, pred, average='weighted'),3)*100 #, average='weighted'\n",
    "    Evaluation_Results.iloc[i]['Recall']=round(recall_score(Test_Y, pred, average='weighted'),3)*100 #, average='weighted'\n",
    "    Evaluation_Results.iloc[i]['F1-score']=round(f1_score(Test_Y, pred, average='weighted'),3)*100 #, average='weighted'\n",
    "    Evaluation_Results.iloc[i]['AUC-ROC score']=round(roc_auc_score(Test_Y, pred_prob, multi_class='ovr'),3)*100 #, multi_class='ovr'\n",
    "    print('{}{}\\033[1m Evaluating {} \\033[0m{}{}\\n'.format('<'*3,'-'*35,Evaluation_Results.index[i], '-'*35,'>'*3))\n",
    "    print('Accuracy = {}%'.format(round(accuracy_score(Test_Y, pred),3)*100))\n",
    "    print('F1 Score = {}%'.format(round(f1_score(Test_Y, pred, average='weighted'),3)*100)) #, average='weighted'\n",
    "    print('\\n \\033[1mConfusiton Matrix:\\033[0m\\n',confusion_matrix(Test_Y, pred))\n",
    "    print('\\n\\033[1mClassification Report:\\033[0m\\n',classification_report(Test_Y, pred))\n",
    "    \n",
    "    auc_roc(Test_Y, pred_prob, curves=['each_class'])\n",
    "    plt.show()\n",
    "\n",
    "#Visualising Function\n",
    "def AUC_ROC_plot(Test_Y, pred):    \n",
    "    ref = [0 for _ in range(len(Test_Y))]\n",
    "    ref_auc = roc_auc_score(Test_Y, ref)\n",
    "    lr_auc = roc_auc_score(Test_Y, pred)\n",
    "\n",
    "    ns_fpr, ns_tpr, _ = roc_curve(Test_Y, ref)\n",
    "    lr_fpr, lr_tpr, _ = roc_curve(Test_Y, pred)\n",
    "\n",
    "    plt.plot(ns_fpr, ns_tpr, linestyle='--')\n",
    "    plt.plot(lr_fpr, lr_tpr, marker='.', label='AUC = {}'.format(round(roc_auc_score(Test_Y, pred)*100,2))) \n",
    "    plt.xlabel('False Positive Rate')\n",
    "    plt.ylabel('True Positive Rate')\n",
    "    plt.legend()\n",
    "    plt.show()"
   ]
  },
  {
   "cell_type": "code",
   "execution_count": 14,
   "id": "e61471b9",
   "metadata": {
    "scrolled": true
   },
   "outputs": [
    {
     "name": "stderr",
     "output_type": "stream",
     "text": [
      "C:\\ProgramData\\Anaconda3\\lib\\site-packages\\sklearn\\linear_model\\_logistic.py:763: ConvergenceWarning: lbfgs failed to converge (status=1):\n",
      "STOP: TOTAL NO. of ITERATIONS REACHED LIMIT.\n",
      "\n",
      "Increase the number of iterations (max_iter) or scale the data as shown in:\n",
      "    https://scikit-learn.org/stable/modules/preprocessing.html\n",
      "Please also refer to the documentation for alternative solver options:\n",
      "    https://scikit-learn.org/stable/modules/linear_model.html#logistic-regression\n",
      "  n_iter_i = _check_optimize_result(\n",
      "C:\\ProgramData\\Anaconda3\\lib\\site-packages\\sklearn\\utils\\deprecation.py:86: FutureWarning: Function plot_roc_curve is deprecated; This will be removed in v0.5.0. Please use scikitplot.metrics.plot_roc instead.\n",
      "  warnings.warn(msg, category=FutureWarning)\n"
     ]
    },
    {
     "name": "stdout",
     "output_type": "stream",
     "text": [
      "<<<-----------------------------------\u001b[1m Evaluating Logistic Regression (LR) \u001b[0m----------------------------------->>>\n",
      "\n",
      "Accuracy = 69.6%\n",
      "F1 Score = 69.6%\n",
      "\n",
      " \u001b[1mConfusiton Matrix:\u001b[0m\n",
      " [[ 934  537   92]\n",
      " [ 285 1648  262]\n",
      " [  62  433 1244]]\n",
      "\n",
      "\u001b[1mClassification Report:\u001b[0m\n",
      "               precision    recall  f1-score   support\n",
      "\n",
      "           0       0.73      0.60      0.66      1563\n",
      "           1       0.63      0.75      0.68      2195\n",
      "           2       0.78      0.72      0.75      1739\n",
      "\n",
      "    accuracy                           0.70      5497\n",
      "   macro avg       0.71      0.69      0.70      5497\n",
      "weighted avg       0.70      0.70      0.70      5497\n",
      "\n"
     ]
    },
    {
     "data": {
      "image/png": "[encoded data removed]",
      "text/plain": [
       "<Figure size 432x288 with 1 Axes>"
      ]
     },
     "metadata": {
      "needs_background": "light"
     },
     "output_type": "display_data"
    }
   ],
   "source": [
    "'''\n",
    "Logistic Regression\n",
    "'''\n",
    "\n",
    "\n",
    "\n",
    "LR_model = LogisticRegression()\n",
    "LR = LR_model.fit(Train_X, Train_Y)\n",
    "pred = LR.predict(Test_X)\n",
    "pred_prob = LR.predict_proba(Test_X)\n",
    "Classification_Summary(pred,pred_prob,0)"
   ]
  },
  {
   "cell_type": "code",
   "execution_count": 15,
   "id": "fe8e9e7d",
   "metadata": {},
   "outputs": [
    {
     "name": "stdout",
     "output_type": "stream",
     "text": [
      "<<<-----------------------------------\u001b[1m Evaluating Random Forest Classifier (RF) \u001b[0m----------------------------------->>>\n",
      "\n",
      "Accuracy = 67.4%\n",
      "F1 Score = 67.30000000000001%\n",
      "\n",
      " \u001b[1mConfusiton Matrix:\u001b[0m\n",
      " [[ 883  587   93]\n",
      " [ 256 1638  301]\n",
      " [  80  476 1183]]\n",
      "\n",
      "\u001b[1mClassification Report:\u001b[0m\n",
      "               precision    recall  f1-score   support\n",
      "\n",
      "           0       0.72      0.56      0.63      1563\n",
      "           1       0.61      0.75      0.67      2195\n",
      "           2       0.75      0.68      0.71      1739\n",
      "\n",
      "    accuracy                           0.67      5497\n",
      "   macro avg       0.69      0.66      0.67      5497\n",
      "weighted avg       0.69      0.67      0.67      5497\n",
      "\n"
     ]
    },
    {
     "name": "stderr",
     "output_type": "stream",
     "text": [
      "C:\\ProgramData\\Anaconda3\\lib\\site-packages\\sklearn\\utils\\deprecation.py:86: FutureWarning: Function plot_roc_curve is deprecated; This will be removed in v0.5.0. Please use scikitplot.metrics.plot_roc instead.\n",
      "  warnings.warn(msg, category=FutureWarning)\n"
     ]
    },
    {
     "data": {
      "image/png": "[encoded data removed]",
      "text/plain": [
       "<Figure size 432x288 with 1 Axes>"
      ]
     },
     "metadata": {
      "needs_background": "light"
     },
     "output_type": "display_data"
    }
   ],
   "source": [
    "# Building Random Forest Classifier\n",
    "\n",
    "RF_model = RandomForestClassifier()\n",
    "RF = RF_model.fit(Train_X, Train_Y)\n",
    "pred = RF.predict(Test_X)\n",
    "pred_prob = RF.predict_proba(Test_X)\n",
    "Classification_Summary(pred,pred_prob,2)"
   ]
  },
  {
   "cell_type": "code",
   "execution_count": 16,
   "id": "3498ad68",
   "metadata": {
    "scrolled": true
   },
   "outputs": [
    {
     "data": {
      "image/png": "[encoded data removed]",
      "text/plain": [
       "<Figure size 1008x216 with 4 Axes>"
      ]
     },
     "metadata": {
      "needs_background": "light"
     },
     "output_type": "display_data"
    }
   ],
   "source": [
    "#Plotting Confusion-Matrix of all the predictive Models\n",
    "\n",
    "\n",
    "labels=['Positive','Negative']\n",
    "def plot_cm(y_true, y_pred):\n",
    "    cm = confusion_matrix(y_true, y_pred, labels=np.unique(y_true))\n",
    "    cm_sum = np.sum(cm, axis=1, keepdims=True)\n",
    "    cm_perc = cm / cm_sum.astype(float) * 100\n",
    "    annot = np.empty_like(cm).astype(str)\n",
    "    nrows, ncols = cm.shape\n",
    "    for i in range(nrows):\n",
    "        for j in range(ncols):\n",
    "            c = cm[i, j]\n",
    "            p = cm_perc[i, j]\n",
    "            if i == j:\n",
    "                s = cm_sum[i]\n",
    "                annot[i, j] = '%.1f%%\\n%d/%d' % (p, c, s)\n",
    "            elif c == 0:\n",
    "                annot[i, j] = ''\n",
    "            else:\n",
    "                annot[i, j] = '%.1f%%\\n%d' % (p, c)\n",
    "    cm = pd.DataFrame(cm, index=np.unique(y_true), columns=np.unique(y_true))\n",
    "    cm.columns=labels\n",
    "    cm.index=labels\n",
    "    cm.index.name = 'Actual'\n",
    "    cm.columns.name = 'Predicted'\n",
    "    #fig, ax = plt.subplots()\n",
    "    sns.heatmap(cm, annot=annot, fmt='')# cmap= \"GnBu\"\n",
    "    \n",
    "def conf_mat_plot(all_models):\n",
    "    plt.figure(figsize=[14,3*math.ceil(len([all_models])/4)])\n",
    "    \n",
    "    for i in range(len(all_models)):\n",
    "        if len(labels)<=4:\n",
    "            plt.subplot(1,4,i+1)\n",
    "        else:\n",
    "            plt.subplot(math.ceil(len(all_models)/2),2,i+1)\n",
    "        pred = all_models[i].predict(Test_X)\n",
    "        #plot_cm(Test_Y, pred)\n",
    "        sns.heatmap(confusion_matrix(Test_Y, pred), annot=True, fmt='.0f') #vmin=0,vmax=5,cmap='BuGn'\n",
    "        plt.title(Evaluation_Results.index[i])\n",
    "    plt.tight_layout()\n",
    "    plt.show()\n",
    "\n",
    "conf_mat_plot([LR,RF])"
   ]
  },
  {
   "cell_type": "code",
   "execution_count": 17,
   "id": "57b797a9",
   "metadata": {},
   "outputs": [
    {
     "data": {
      "image/png": "[encoded data removed]",
      "text/plain": [
       "<Figure size 432x288 with 2 Axes>"
      ]
     },
     "metadata": {
      "needs_background": "light"
     },
     "output_type": "display_data"
    }
   ],
   "source": [
    "#Comparing all the models Scores\n",
    "\n",
    "#plt.figure(figsize=[12,5])\n",
    "sns.heatmap(Evaluation_Results, annot=True, vmin=40, vmax=100.0, cmap='YlGnBu', fmt='.1f')\n",
    "plt.show()"
   ]
  },
  {
   "cell_type": "code",
   "execution_count": null,
   "id": "66e138f1",
   "metadata": {},
   "outputs": [],
   "source": [
    "'''\n",
    "neutraldata = df[df['sentiment']=='neutral']\n",
    "neutraldata= neutraldata['text']\n",
    "neutraldata\n",
    "\n",
    "\n",
    "'''Assigning prediction labels to target variables'''\n",
    "\n",
    "MAP={'negative':0, 'neutral':1, 'positive':2}\n",
    "df.sentiment = df.sentiment.map(MAP)\n",
    "df\n",
    "'''"
   ]
  },
  {
   "cell_type": "code",
   "execution_count": null,
   "id": "e51b050b",
   "metadata": {},
   "outputs": [],
   "source": []
  }
 ],
 "metadata": {
  "kernelspec": {
   "display_name": "Python 3 (ipykernel)",
   "language": "python",
   "name": "python3"
  },
  "language_info": {
   "codemirror_mode": {
    "name": "ipython",
    "version": 3
   },
   "file_extension": ".py",
   "mimetype": "text/x-python",
   "name": "python",
   "nbconvert_exporter": "python",
   "pygments_lexer": "ipython3",
   "version": "3.9.7"
  }
 },
 "nbformat": 4,
 "nbformat_minor": 5
}
